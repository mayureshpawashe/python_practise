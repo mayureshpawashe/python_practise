{
 "cells": [
  {
   "cell_type": "code",
   "execution_count": 1,
   "id": "6dc73999-87d3-4ad9-a4c9-c1a7e35650dd",
   "metadata": {},
   "outputs": [],
   "source": [
    "import numpy as np"
   ]
  },
  {
   "cell_type": "code",
   "execution_count": 2,
   "id": "1c103ec7-2bb4-4cb5-b1f6-19ed8f5917d5",
   "metadata": {},
   "outputs": [
    {
     "name": "stdout",
     "output_type": "stream",
     "text": [
      "[11 22 33 44]\n"
     ]
    }
   ],
   "source": [
    "arr=np.array([11,22,33,44])\n",
    "print(arr)"
   ]
  },
  {
   "cell_type": "code",
   "execution_count": 3,
   "id": "f825da7c-1985-4e96-b6fb-0e4d2b0b2e49",
   "metadata": {},
   "outputs": [
    {
     "name": "stdout",
     "output_type": "stream",
     "text": [
      "<class 'numpy.ndarray'>\n"
     ]
    }
   ],
   "source": [
    "print(type(arr))"
   ]
  },
  {
   "cell_type": "code",
   "execution_count": 5,
   "id": "f0608f4a-4856-46f5-af88-bfc740c87e8f",
   "metadata": {},
   "outputs": [
    {
     "name": "stdout",
     "output_type": "stream",
     "text": [
      "[[1 2 3]\n",
      " [5 6 7]]\n"
     ]
    }
   ],
   "source": [
    "#2-D Array\n",
    "arr=np.array([[1,2,3],[5,6,7]])\n",
    "print(arr)"
   ]
  },
  {
   "cell_type": "code",
   "execution_count": 6,
   "id": "321ac606-bdab-42e3-81e0-d3cb57b1b353",
   "metadata": {},
   "outputs": [
    {
     "name": "stdout",
     "output_type": "stream",
     "text": [
      "[[[ 1  2  3  4]\n",
      "  [ 5  6  7  8]\n",
      "  [ 9 10 11 12]]\n",
      "\n",
      " [[13 14 15 16]\n",
      "  [17 18 19 20]\n",
      "  [21 22 23 24]]]\n"
     ]
    }
   ],
   "source": [
    "#3-D Array\n",
    "array_3d = np.array(\n",
    "    [\n",
    "    [ [1, 2, 3, 4], [5, 6, 7, 8], [9, 10, 11, 12] ],\n",
    "    [ [13, 14, 15, 16], [17, 18, 19, 20], [21, 22, 23, 24] ]\n",
    "    ]\n",
    "    )\n",
    "print(array_3d)"
   ]
  },
  {
   "cell_type": "code",
   "execution_count": 8,
   "id": "d27d693f-a68c-4b2a-bd5b-98ded2fac2a6",
   "metadata": {},
   "outputs": [
    {
     "name": "stdout",
     "output_type": "stream",
     "text": [
      "(2, 3, 4)\n"
     ]
    }
   ],
   "source": [
    "print(array_3d.shape)\n",
    "# 2 array , 3 rows, 4 coloumns"
   ]
  },
  {
   "cell_type": "code",
   "execution_count": 10,
   "id": "4a8d7692-7398-4bc5-8af6-83419dfd406c",
   "metadata": {},
   "outputs": [
    {
     "name": "stdout",
     "output_type": "stream",
     "text": [
      "Sun of all Element in array : 300\n"
     ]
    }
   ],
   "source": [
    "#sum of all elements in array\n",
    "sum=np.sum(array_3d)\n",
    "print(f\"Sun of all Element in array : {sum}\")\n"
   ]
  },
  {
   "cell_type": "code",
   "execution_count": 11,
   "id": "629ed8fc-dff9-45d8-bc44-dc222f693b0c",
   "metadata": {},
   "outputs": [
    {
     "name": "stdout",
     "output_type": "stream",
     "text": [
      "Mean of array is: 12.5\n"
     ]
    }
   ],
   "source": [
    "# calculate mean of all elements \n",
    "mean=np.mean(array_3d)\n",
    "print(f\"Mean of array is: {mean}\")"
   ]
  },
  {
   "cell_type": "code",
   "execution_count": 12,
   "id": "d79d4ad6-40ea-4784-ad4b-87c9becba2f2",
   "metadata": {},
   "outputs": [
    {
     "name": "stdout",
     "output_type": "stream",
     "text": [
      "Median is 12.5\n"
     ]
    }
   ],
   "source": [
    "# median \n",
    "medi=np.median(array_3d)\n",
    "print(f\"Median is {medi}\")"
   ]
  },
  {
   "cell_type": "code",
   "execution_count": 13,
   "id": "c7131f84-a459-4e6e-a0bc-2df81cec23f0",
   "metadata": {},
   "outputs": [
    {
     "name": "stdout",
     "output_type": "stream",
     "text": [
      "\n",
      "Accessing Specific Elements:\n",
      "Element at [0, 1, 2]: 7\n",
      "Element at [1, 2, 3]: 24\n"
     ]
    }
   ],
   "source": [
    "# Accessing specific elements\n",
    "print(\"\\nAccessing Specific Elements:\")\n",
    "print(\"Element at [0, 1, 2]:\", array_3d[0, 1, 2])\n",
    "print(\"Element at [1, 2, 3]:\", array_3d[1, 2, 3])  "
   ]
  },
  {
   "cell_type": "code",
   "execution_count": 14,
   "id": "c828bfe2-3917-4cb9-875e-af7c6fbe9cc9",
   "metadata": {},
   "outputs": [
    {
     "name": "stdout",
     "output_type": "stream",
     "text": [
      "\n",
      "Slicing:\n",
      "First matrix (array_3d[0]):\n",
      " [[ 1  2  3  4]\n",
      " [ 5  6  7  8]\n",
      " [ 9 10 11 12]]\n",
      "Second row of first matrix (array_3d[0, 1]): [5 6 7 8]\n",
      "All elements in the last column:\n",
      " [[ 4  8 12]\n",
      " [16 20 24]]\n"
     ]
    }
   ],
   "source": [
    "# Slicing the array\n",
    "print(\"\\nSlicing:\")\n",
    "print(\"First matrix (array_3d[0]):\\n\", array_3d[0])\n",
    "print(\"Second row of first matrix (array_3d[0, 1]):\", array_3d[0, 1])\n",
    "print(\"All elements in the last column:\\n\", array_3d[:, :, -1])"
   ]
  },
  {
   "cell_type": "code",
   "execution_count": 15,
   "id": "9fc8775d-c186-4950-93b6-e9513a538010",
   "metadata": {},
   "outputs": [
    {
     "name": "stdout",
     "output_type": "stream",
     "text": [
      "3\n"
     ]
    }
   ],
   "source": [
    "print(array_3d.ndim)"
   ]
  },
  {
   "cell_type": "code",
   "execution_count": 18,
   "id": "7f00d2bf-151b-4a6a-b5dc-f9104fb22cf2",
   "metadata": {},
   "outputs": [
    {
     "name": "stdout",
     "output_type": "stream",
     "text": [
      "Array 1:\n",
      " [[1 2 3]\n",
      " [4 5 6]\n",
      " [7 8 9]]\n",
      "\n",
      "Array 2:\n",
      " [[ 7  8  9]\n",
      " [10 11 12]\n",
      " [13 14 15]]\n"
     ]
    }
   ],
   "source": [
    "array1 = np.array([[1, 2, 3], [4, 5, 6],[7,8,9]])\n",
    "array2 = np.array([[7, 8, 9], [10, 11, 12],[13,14,15]])\n",
    "\n",
    "print(\"Array 1:\\n\", array1)\n",
    "print(\"\\nArray 2:\\n\", array2)"
   ]
  },
  {
   "cell_type": "code",
   "execution_count": 19,
   "id": "dfd89963-9aac-46aa-9b6f-1ebcb72e31e4",
   "metadata": {},
   "outputs": [
    {
     "name": "stdout",
     "output_type": "stream",
     "text": [
      "\n",
      "Addition of Array1 and Array2:\n",
      " [[ 8 10 12]\n",
      " [14 16 18]\n",
      " [20 22 24]]\n"
     ]
    }
   ],
   "source": [
    "# addition of two arrays\n",
    "add= array1 + array2\n",
    "print(\"\\nAddition of Array1 and Array2:\\n\", add)"
   ]
  },
  {
   "cell_type": "code",
   "execution_count": 21,
   "id": "500f960a-068d-490a-aef0-921f82d82b91",
   "metadata": {},
   "outputs": [
    {
     "name": "stdout",
     "output_type": "stream",
     "text": [
      "\n",
      "Subtraction of Array1 and Array2:\n",
      " [[-6 -6 -6]\n",
      " [-6 -6 -6]\n",
      " [-6 -6 -6]]\n"
     ]
    }
   ],
   "source": [
    "# subtraction of two arrays\n",
    "sub = array1 - array2\n",
    "print(\"\\nSubtraction of Array1 and Array2:\\n\", sub)"
   ]
  },
  {
   "cell_type": "code",
   "execution_count": 22,
   "id": "b57530c5-f1e7-4558-9b79-4a4f8bd3b720",
   "metadata": {},
   "outputs": [
    {
     "name": "stdout",
     "output_type": "stream",
     "text": [
      "\n",
      "Element-wise Multiplication of Array1 and Array2:\n",
      " [[  7  16  27]\n",
      " [ 40  55  72]\n",
      " [ 91 112 135]]\n"
     ]
    }
   ],
   "source": [
    "mul = array1 * array2\n",
    "print(\"\\nElement-wise Multiplication of Array1 and Array2:\\n\", mul)"
   ]
  },
  {
   "cell_type": "code",
   "execution_count": 23,
   "id": "05cd1e4c-e2f6-4717-a383-d9eaedae667d",
   "metadata": {},
   "outputs": [
    {
     "name": "stdout",
     "output_type": "stream",
     "text": [
      "Array 3D-1:\n",
      " [[[1 2]\n",
      "  [3 4]]\n",
      "\n",
      " [[5 6]\n",
      "  [7 8]]]\n",
      "\n",
      "Array 3D-2:\n",
      " [[[ 9 10]\n",
      "  [11 12]]\n",
      "\n",
      " [[13 14]\n",
      "  [15 16]]]\n",
      "\n",
      "Matrix Multiplication (3D Array):\n",
      " [[[ 31  34]\n",
      "  [ 71  78]]\n",
      "\n",
      " [[155 166]\n",
      "  [211 226]]]\n"
     ]
    }
   ],
   "source": [
    "# Create two 3D arrays\n",
    "array3d_1 = np.array([\n",
    "    [[1, 2], [3, 4]],\n",
    "    [[5, 6], [7, 8]]\n",
    "])\n",
    "\n",
    "array3d_2 = np.array([\n",
    "    [[9, 10], [11, 12]],\n",
    "    [[13, 14], [15, 16]]\n",
    "])\n",
    "\n",
    "# Display the arrays\n",
    "print(\"Array 3D-1:\\n\", array3d_1)\n",
    "print(\"\\nArray 3D-2:\\n\", array3d_2)\n",
    "\n",
    "# Perform matrix multiplication along the last two axes\n",
    "result = np.matmul(array3d_1, array3d_2)\n",
    "\n",
    "# Display the result\n",
    "print(\"\\nMatrix Multiplication (3D Array):\\n\", result)"
   ]
  },
  {
   "cell_type": "code",
   "execution_count": null,
   "id": "ed8e3bec-7c82-4585-841c-656d0504e7d9",
   "metadata": {},
   "outputs": [],
   "source": []
  }
 ],
 "metadata": {
  "kernelspec": {
   "display_name": "Python 3 (ipykernel)",
   "language": "python",
   "name": "python3"
  },
  "language_info": {
   "codemirror_mode": {
    "name": "ipython",
    "version": 3
   },
   "file_extension": ".py",
   "mimetype": "text/x-python",
   "name": "python",
   "nbconvert_exporter": "python",
   "pygments_lexer": "ipython3",
   "version": "3.11.5"
  },
  "widgets": {
   "application/vnd.jupyter.widget-state+json": {
    "state": {},
    "version_major": 2,
    "version_minor": 0
   }
  }
 },
 "nbformat": 4,
 "nbformat_minor": 5
}
