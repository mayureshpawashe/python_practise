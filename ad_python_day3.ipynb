{
 "cells": [
  {
   "cell_type": "code",
   "execution_count": 1,
   "id": "07556e39-e5f1-40d4-a378-c656d2aa2f13",
   "metadata": {},
   "outputs": [
    {
     "name": "stdout",
     "output_type": "stream",
     "text": [
      "3.141592653589793\n"
     ]
    }
   ],
   "source": [
    "import math as m\n",
    "\n",
    "print(m.pi)"
   ]
  },
  {
   "cell_type": "code",
   "execution_count": 2,
   "id": "f3ee3369-8687-44ee-af02-3aec322be13e",
   "metadata": {},
   "outputs": [
    {
     "name": "stdout",
     "output_type": "stream",
     "text": [
      "720\n"
     ]
    }
   ],
   "source": [
    "print(m.factorial(6))"
   ]
  },
  {
   "cell_type": "code",
   "execution_count": 3,
   "id": "4a116f9a-5998-45ed-9d6c-17f4ebc89b3e",
   "metadata": {},
   "outputs": [
    {
     "name": "stdin",
     "output_type": "stream",
     "text": [
      "Enter Your Name::  EEE\n"
     ]
    },
    {
     "name": "stdout",
     "output_type": "stream",
     "text": [
      "Hello EEE !! Welcome to Modules\n",
      "None\n"
     ]
    }
   ],
   "source": [
    "import my_module as my\n",
    "name= str(input(\"Enter Your Name:: \"))\n",
    "print(my.greet(name))"
   ]
  },
  {
   "cell_type": "code",
   "execution_count": 4,
   "id": "ce669cbd-4020-46a8-84af-724977e92227",
   "metadata": {},
   "outputs": [
    {
     "name": "stdout",
     "output_type": "stream",
     "text": [
      "DataFrame: \n",
      "\n",
      "       Name  Age      City\n",
      "0  Mayuresh   23  New York\n",
      "1    Mohith   25    Denver\n",
      "2    Chinnu   28   Chicago\n",
      "3   Sirisha   22    Berlin\n"
     ]
    }
   ],
   "source": [
    "import pandas as pd\n",
    "data = {\n",
    "    \"Name\": [\"Mayuresh\", \"Mohith\", \"Chinnu\",\"Sirisha\"],\n",
    "    \"Age\": [23, 25, 28,22],\n",
    "    \"City\": [\"New York\", \"Denver\", \"Chicago\",\"Berlin\"]\n",
    "}\n",
    "\n",
    "\n",
    "df = pd.DataFrame(data)\n",
    "print(\"DataFrame: \\n\")\n",
    "print(df)"
   ]
  },
  {
   "cell_type": "code",
   "execution_count": 5,
   "id": "7e3d1d98-02d1-4ff8-9249-8cbe13602950",
   "metadata": {},
   "outputs": [
    {
     "name": "stdout",
     "output_type": "stream",
     "text": [
      "First few rows of the CSV:\n",
      "     Subject  Marks\n",
      "0       Math     95\n",
      "1    Science     88\n",
      "2  Geography     76\n",
      "3    History     89\n",
      "4    English     92\n"
     ]
    }
   ],
   "source": [
    "import pandas as pd\n",
    "df= pd.read_csv(\"C:\\Sample_python\\sample_marks.csv\")\n",
    "print(\"First few rows of the CSV:\")\n",
    "print(df.head())"
   ]
  },
  {
   "cell_type": "code",
   "execution_count": 1,
   "id": "9f4e7688-6f04-4981-9fb6-e3aefd1f56a3",
   "metadata": {},
   "outputs": [
    {
     "name": "stdout",
     "output_type": "stream",
     "text": [
      "Today's date is: 2025-01-27\n"
     ]
    }
   ],
   "source": [
    "import datetime as dt\n",
    "current_date = dt.date.today()\n",
    "print(f\"Today's date is: {current_date}\")"
   ]
  },
  {
   "cell_type": "code",
   "execution_count": 2,
   "id": "182286d9-201e-4f5d-afed-6dc025262a60",
   "metadata": {},
   "outputs": [
    {
     "name": "stdout",
     "output_type": "stream",
     "text": [
      "Addition: 30\n",
      "Subtraction: -10\n",
      "Multiplication: 200\n",
      "Division: 0.5\n"
     ]
    }
   ],
   "source": [
    "import math_operations as mo\n",
    "a = 10\n",
    "b=20\n",
    "\n",
    "print(f\"Addition: {mo.add(a, b)}\")\n",
    "print(f\"Subtraction: {mo.subtract(a, b)}\")\n",
    "print(f\"Multiplication: {mo.multiply(a, b)}\")\n",
    "print(f\"Division: {mo.divide(a, b)}\")"
   ]
  },
  {
   "cell_type": "code",
   "execution_count": null,
   "id": "2bbb41d2-e3af-4733-832b-802949a46e2d",
   "metadata": {},
   "outputs": [],
   "source": []
  }
 ],
 "metadata": {
  "kernelspec": {
   "display_name": "Python 3 (ipykernel)",
   "language": "python",
   "name": "python3"
  },
  "language_info": {
   "codemirror_mode": {
    "name": "ipython",
    "version": 3
   },
   "file_extension": ".py",
   "mimetype": "text/x-python",
   "name": "python",
   "nbconvert_exporter": "python",
   "pygments_lexer": "ipython3",
   "version": "3.11.5"
  },
  "widgets": {
   "application/vnd.jupyter.widget-state+json": {
    "state": {},
    "version_major": 2,
    "version_minor": 0
   }
  }
 },
 "nbformat": 4,
 "nbformat_minor": 5
}
