{
 "cells": [
  {
   "cell_type": "code",
   "execution_count": 1,
   "id": "603902e1-a3b1-40c5-8b70-d71e693f40b0",
   "metadata": {},
   "outputs": [
    {
     "name": "stdout",
     "output_type": "stream",
     "text": [
      "hii\n"
     ]
    }
   ],
   "source": [
    "print(\"hii\")"
   ]
  },
  {
   "cell_type": "code",
   "execution_count": 3,
   "id": "f3a5251c-1bc2-4125-a270-5ebd9b6053db",
   "metadata": {},
   "outputs": [
    {
     "name": "stdout",
     "output_type": "stream",
     "text": [
      "0     1\n",
      "1    12\n",
      "2    13\n",
      "3    15\n",
      "dtype: int64\n"
     ]
    }
   ],
   "source": [
    "s= [1,12,13,15]\n",
    "var= pd.Series(s)\n",
    "print(var)"
   ]
  },
  {
   "cell_type": "code",
   "execution_count": 4,
   "id": "968b15bd-b2f4-4a16-b472-1237adad7924",
   "metadata": {},
   "outputs": [
    {
     "name": "stdout",
     "output_type": "stream",
     "text": [
      "1\n"
     ]
    }
   ],
   "source": [
    "print(var[0])"
   ]
  },
  {
   "cell_type": "code",
   "execution_count": 5,
   "id": "087eef43-b7c9-4e2a-999a-f1eaa7073a8f",
   "metadata": {},
   "outputs": [
    {
     "name": "stdout",
     "output_type": "stream",
     "text": [
      "13\n"
     ]
    }
   ],
   "source": [
    "print(var[2])"
   ]
  },
  {
   "cell_type": "code",
   "execution_count": 6,
   "id": "0efc8af4-de7c-4e5f-ba22-08d8e142bfe4",
   "metadata": {},
   "outputs": [
    {
     "name": "stdout",
     "output_type": "stream",
     "text": [
      "a    11\n",
      "b    22\n",
      "c    33\n",
      "d    44\n",
      "dtype: int64\n"
     ]
    }
   ],
   "source": [
    "a=[11,22,33,44]\n",
    "var=pd.Series(a,index=[\"a\",\"b\",\"c\",\"d\"])\n",
    "print(var)"
   ]
  },
  {
   "cell_type": "code",
   "execution_count": 8,
   "id": "db532bd7-a6a8-4f15-9b98-cb57613d9b9b",
   "metadata": {},
   "outputs": [
    {
     "name": "stdout",
     "output_type": "stream",
     "text": [
      "33\n"
     ]
    }
   ],
   "source": [
    "print(var[\"c\"])"
   ]
  },
  {
   "cell_type": "code",
   "execution_count": 12,
   "id": "2c1443ae-97e9-4be2-b47b-b36343b8ad27",
   "metadata": {},
   "outputs": [
    {
     "name": "stdout",
     "output_type": "stream",
     "text": [
      "math         100\n",
      "science      200\n",
      "geography    300\n",
      "marathi      400\n",
      "history      250\n",
      "english      130\n",
      "dtype: int64\n"
     ]
    }
   ],
   "source": [
    "marks={\"math\":100, \"science\":200, \"geography\":300, \"marathi\":400, \"history\":250, \"english\":130}\n",
    "var=pd.Series(marks)\n",
    "print(var)"
   ]
  },
  {
   "cell_type": "code",
   "execution_count": 13,
   "id": "ba214de1-744e-451e-8685-606d467e4022",
   "metadata": {},
   "outputs": [
    {
     "name": "stdout",
     "output_type": "stream",
     "text": [
      "Average marks is 230.0\n"
     ]
    }
   ],
   "source": [
    "#calculate avg value\n",
    "avg=var.mean()\n",
    "print(f\"Average marks is {avg}\")\n"
   ]
  },
  {
   "cell_type": "code",
   "execution_count": 14,
   "id": "f72a6eba-c3f5-4f34-92f9-1bc7a02aa613",
   "metadata": {},
   "outputs": [
    {
     "name": "stdout",
     "output_type": "stream",
     "text": [
      "Total Marks Are: 1380\n"
     ]
    }
   ],
   "source": [
    "#calculate  total marks\n",
    "sum= var.sum()\n",
    "print(f\"Total Marks Are: {sum}\")"
   ]
  },
  {
   "cell_type": "code",
   "execution_count": 15,
   "id": "ef64d5f8-7586-45c6-a0e4-c59a32382925",
   "metadata": {},
   "outputs": [
    {
     "name": "stdout",
     "output_type": "stream",
     "text": [
      "Median of marks is 225.0\n"
     ]
    }
   ],
   "source": [
    "#calculate median of marks\n",
    "median= var.median()\n",
    "print(f\"Median of marks is {median}\")"
   ]
  },
  {
   "cell_type": "code",
   "execution_count": 17,
   "id": "1a36fc6a-6c77-4884-b03e-d255a3636dd4",
   "metadata": {},
   "outputs": [
    {
     "name": "stdout",
     "output_type": "stream",
     "text": [
      "     Subject  Marks\n",
      "0       Math     95\n",
      "1    Science     88\n",
      "2  Geography     76\n",
      "3    History     89\n",
      "4    English     92\n"
     ]
    }
   ],
   "source": [
    "path=\"C:\\Sample_python\\sample_marks.csv\"\n",
    "data=pd.read_csv(path)\n",
    "print(data)"
   ]
  },
  {
   "cell_type": "code",
   "execution_count": 19,
   "id": "ce57a6a5-1b85-4fec-ade2-68a38ee9dbae",
   "metadata": {},
   "outputs": [],
   "source": [
    "# Perform some basic operations\n",
    "mean_marks = data[\"Marks\"].mean()\n",
    "sum_marks = data[\"Marks\"].sum()\n",
    "median_marks = data[\"Marks\"].median()\n",
    "max_marks = data[\"Marks\"].max()\n",
    "min_marks = data[\"Marks\"].min()"
   ]
  },
  {
   "cell_type": "code",
   "execution_count": 20,
   "id": "5a93fe5a-bdb6-44cd-aff3-39ee2b00788b",
   "metadata": {},
   "outputs": [
    {
     "name": "stdout",
     "output_type": "stream",
     "text": [
      "\n",
      "Basic Operations:\n",
      "Mean Marks: 88.0\n",
      "Sum of Marks: 440\n",
      "Median Marks: 89.0\n",
      "Maximum Marks: 95\n",
      "Minimum Marks: 76\n"
     ]
    }
   ],
   "source": [
    "# Display results of operations\n",
    "print(\"\\nBasic Operations:\")\n",
    "print(f\"Mean Marks: {mean_marks}\")\n",
    "print(f\"Sum of Marks: {sum_marks}\")\n",
    "print(f\"Median Marks: {median_marks}\")\n",
    "print(f\"Maximum Marks: {max_marks}\")\n",
    "print(f\"Minimum Marks: {min_marks}\")"
   ]
  },
  {
   "cell_type": "code",
   "execution_count": 25,
   "id": "53d41fc4-fd01-4412-801d-b53e95517a0c",
   "metadata": {},
   "outputs": [
    {
     "name": "stdout",
     "output_type": "stream",
     "text": [
      "Subject    Geography\n",
      "Marks             76\n",
      "Name: 2, dtype: object\n"
     ]
    }
   ],
   "source": [
    "print(data.loc[2])"
   ]
  },
  {
   "cell_type": "code",
   "execution_count": 26,
   "id": "2e8ce165-4339-4f67-85fb-297bcf1b416b",
   "metadata": {},
   "outputs": [
    {
     "name": "stdout",
     "output_type": "stream",
     "text": [
      "   Subject  Marks\n",
      "0     Math     95\n",
      "1  Science     88\n"
     ]
    }
   ],
   "source": [
    "print(data.loc[[0,1]])"
   ]
  },
  {
   "cell_type": "code",
   "execution_count": 28,
   "id": "ad5ddf8d-cfe6-44ed-85f3-b7435bed9978",
   "metadata": {},
   "outputs": [
    {
     "name": "stdout",
     "output_type": "stream",
     "text": [
      "<bound method DataFrame.to_string of      Subject  Marks\n",
      "0       Math     95\n",
      "1    Science     88\n",
      "2  Geography     76\n",
      "3    History     89\n",
      "4    English     92>\n"
     ]
    }
   ],
   "source": [
    "#df.to_string  is use for display entire dataset\n",
    "print(data.to_string)"
   ]
  },
  {
   "cell_type": "code",
   "execution_count": 29,
   "id": "d19a0852-5500-4d43-b803-52b9ddd19f73",
   "metadata": {},
   "outputs": [
    {
     "data": {
      "text/html": [
       "<div>\n",
       "<style scoped>\n",
       "    .dataframe tbody tr th:only-of-type {\n",
       "        vertical-align: middle;\n",
       "    }\n",
       "\n",
       "    .dataframe tbody tr th {\n",
       "        vertical-align: top;\n",
       "    }\n",
       "\n",
       "    .dataframe thead th {\n",
       "        text-align: right;\n",
       "    }\n",
       "</style>\n",
       "<table border=\"1\" class=\"dataframe\">\n",
       "  <thead>\n",
       "    <tr style=\"text-align: right;\">\n",
       "      <th></th>\n",
       "      <th>Marks</th>\n",
       "    </tr>\n",
       "  </thead>\n",
       "  <tbody>\n",
       "    <tr>\n",
       "      <th>count</th>\n",
       "      <td>5.000000</td>\n",
       "    </tr>\n",
       "    <tr>\n",
       "      <th>mean</th>\n",
       "      <td>88.000000</td>\n",
       "    </tr>\n",
       "    <tr>\n",
       "      <th>std</th>\n",
       "      <td>7.245688</td>\n",
       "    </tr>\n",
       "    <tr>\n",
       "      <th>min</th>\n",
       "      <td>76.000000</td>\n",
       "    </tr>\n",
       "    <tr>\n",
       "      <th>25%</th>\n",
       "      <td>88.000000</td>\n",
       "    </tr>\n",
       "    <tr>\n",
       "      <th>50%</th>\n",
       "      <td>89.000000</td>\n",
       "    </tr>\n",
       "    <tr>\n",
       "      <th>75%</th>\n",
       "      <td>92.000000</td>\n",
       "    </tr>\n",
       "    <tr>\n",
       "      <th>max</th>\n",
       "      <td>95.000000</td>\n",
       "    </tr>\n",
       "  </tbody>\n",
       "</table>\n",
       "</div>"
      ],
      "text/plain": [
       "           Marks\n",
       "count   5.000000\n",
       "mean   88.000000\n",
       "std     7.245688\n",
       "min    76.000000\n",
       "25%    88.000000\n",
       "50%    89.000000\n",
       "75%    92.000000\n",
       "max    95.000000"
      ]
     },
     "execution_count": 29,
     "metadata": {},
     "output_type": "execute_result"
    }
   ],
   "source": [
    "data.describe()"
   ]
  },
  {
   "cell_type": "code",
   "execution_count": null,
   "id": "5e11d483-7f12-4c41-9dc0-c043315ffebd",
   "metadata": {},
   "outputs": [],
   "source": []
  }
 ],
 "metadata": {
  "kernelspec": {
   "display_name": "Python 3 (ipykernel)",
   "language": "python",
   "name": "python3"
  },
  "language_info": {
   "codemirror_mode": {
    "name": "ipython",
    "version": 3
   },
   "file_extension": ".py",
   "mimetype": "text/x-python",
   "name": "python",
   "nbconvert_exporter": "python",
   "pygments_lexer": "ipython3",
   "version": "3.11.5"
  },
  "widgets": {
   "application/vnd.jupyter.widget-state+json": {
    "state": {},
    "version_major": 2,
    "version_minor": 0
   }
  }
 },
 "nbformat": 4,
 "nbformat_minor": 5
}
